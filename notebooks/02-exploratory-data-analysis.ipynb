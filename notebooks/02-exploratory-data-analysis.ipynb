{
 "cells": [
  {
   "cell_type": "markdown",
   "metadata": {},
   "source": [
    "### 1: Load Clean Data & Imports"
   ]
  },
  {
   "cell_type": "code",
   "execution_count": 1,
   "metadata": {},
   "outputs": [
    {
     "name": "stdout",
     "output_type": "stream",
     "text": [
      "Libraries imported.\n",
      "Loading features from: /Users/yogeshdhaliya/Desktop/DS Learning/11. Projects/Credit-Risk-Prediction/data/processed/X_cleaned.csv\n",
      "Loading target from: /Users/yogeshdhaliya/Desktop/DS Learning/11. Projects/Credit-Risk-Prediction/data/processed/y_target.csv\n",
      "\n",
      "--- Data Loaded Successfully ---\n",
      "\n",
      "--- X (Features) Info ---\n",
      "<class 'pandas.core.frame.DataFrame'>\n",
      "Index: 51336 entries, 1 to 51336\n",
      "Data columns (total 58 columns):\n",
      " #   Column                      Non-Null Count  Dtype  \n",
      "---  ------                      --------------  -----  \n",
      " 0   tot_enq                     45015 non-null  float64\n",
      " 1   CC_enq                      45015 non-null  float64\n",
      " 2   CC_enq_L6m                  45015 non-null  float64\n",
      " 3   CC_enq_L12m                 45015 non-null  float64\n",
      " 4   PL_enq                      45015 non-null  float64\n",
      " 5   PL_enq_L6m                  45015 non-null  float64\n",
      " 6   PL_enq_L12m                 45015 non-null  float64\n",
      " 7   time_since_recent_enq       45015 non-null  float64\n",
      " 8   enq_L12m                    45015 non-null  float64\n",
      " 9   enq_L6m                     45015 non-null  float64\n",
      " 10  enq_L3m                     45015 non-null  float64\n",
      " 11  MARITALSTATUS               51336 non-null  object \n",
      " 12  EDUCATION                   51336 non-null  object \n",
      " 13  AGE                         51336 non-null  int64  \n",
      " 14  GENDER                      51336 non-null  object \n",
      " 15  NETMONTHLYINCOME            51336 non-null  int64  \n",
      " 16  Time_With_Curr_Empr         51336 non-null  int64  \n",
      " 17  pct_of_active_TLs_ever      51336 non-null  float64\n",
      " 18  pct_opened_TLs_L6m_of_L12m  51336 non-null  float64\n",
      " 19  pct_currentBal_all_TL       51264 non-null  float64\n",
      " 20  CC_utilization              3700 non-null   float64\n",
      " 21  CC_Flag                     51336 non-null  int64  \n",
      " 22  PL_utilization              6901 non-null   float64\n",
      " 23  PL_Flag                     51336 non-null  int64  \n",
      " 24  pct_PL_enq_L6m_of_L12m      51336 non-null  float64\n",
      " 25  pct_CC_enq_L6m_of_L12m      51336 non-null  float64\n",
      " 26  pct_PL_enq_L6m_of_ever      51336 non-null  float64\n",
      " 27  pct_CC_enq_L6m_of_ever      51336 non-null  float64\n",
      " 28  max_unsec_exposure_inPct    28158 non-null  float64\n",
      " 29  HL_Flag                     51336 non-null  int64  \n",
      " 30  GL_Flag                     51336 non-null  int64  \n",
      " 31  last_prod_enq2              51336 non-null  object \n",
      " 32  first_prod_enq2             51336 non-null  object \n",
      " 33  Total_TL                    51336 non-null  int64  \n",
      " 34  Tot_Closed_TL               51336 non-null  int64  \n",
      " 35  Tot_Active_TL               51336 non-null  int64  \n",
      " 36  Total_TL_opened_L6M         51336 non-null  int64  \n",
      " 37  Tot_TL_closed_L6M           51336 non-null  int64  \n",
      " 38  pct_tl_open_L6M             51336 non-null  float64\n",
      " 39  pct_tl_closed_L6M           51336 non-null  float64\n",
      " 40  pct_active_tl               51336 non-null  float64\n",
      " 41  pct_closed_tl               51336 non-null  float64\n",
      " 42  Total_TL_opened_L12M        51336 non-null  int64  \n",
      " 43  Tot_TL_closed_L12M          51336 non-null  int64  \n",
      " 44  pct_tl_open_L12M            51336 non-null  float64\n",
      " 45  pct_tl_closed_L12M          51336 non-null  float64\n",
      " 46  Tot_Missed_Pmnt             51336 non-null  int64  \n",
      " 47  Auto_TL                     51336 non-null  int64  \n",
      " 48  CC_TL                       51336 non-null  int64  \n",
      " 49  Consumer_TL                 51336 non-null  int64  \n",
      " 50  Gold_TL                     51336 non-null  int64  \n",
      " 51  Home_TL                     51336 non-null  int64  \n",
      " 52  PL_TL                       51336 non-null  int64  \n",
      " 53  Secured_TL                  51336 non-null  int64  \n",
      " 54  Unsecured_TL                51336 non-null  int64  \n",
      " 55  Other_TL                    51336 non-null  int64  \n",
      " 56  Age_Oldest_TL               51296 non-null  float64\n",
      " 57  Age_Newest_TL               51296 non-null  float64\n",
      "dtypes: float64(29), int64(24), object(5)\n",
      "memory usage: 23.1+ MB\n",
      "\n",
      "--- y (Target) Imbalance (Finding 4) ---\n",
      "Approved_Flag\n",
      "P1    0.113040\n",
      "P2    0.627221\n",
      "P3    0.145161\n",
      "P4    0.114578\n",
      "Name: proportion, dtype: float64\n"
     ]
    }
   ],
   "source": [
    "import pandas as pd\n",
    "import numpy as np\n",
    "import os\n",
    "import matplotlib.pyplot as plt\n",
    "import seaborn as sns\n",
    "from ydata_profiling import ProfileReport \n",
    "import warnings\n",
    "\n",
    "# --- Setup ---\n",
    "warnings.filterwarnings('ignore')\n",
    "pd.set_option('display.max_columns', None)\n",
    "pd.set_option('display.max_rows', 100)\n",
    "sns.set_style('whitegrid')\n",
    "plt.rcParams['figure.figsize'] = (10, 6)\n",
    "\n",
    "print(\"Libraries imported.\")\n",
    "\n",
    "# --- Load Processed Data ---\n",
    "\n",
    "ROOT_DIR = os.path.abspath(os.path.join(os.getcwd(), '..'))\n",
    "PROCESSED_DATA_DIR = os.path.join(ROOT_DIR, 'data', 'processed')\n",
    "\n",
    "X_path = os.path.join(PROCESSED_DATA_DIR, 'X_cleaned.csv')\n",
    "y_path = os.path.join(PROCESSED_DATA_DIR, 'y_target.csv')\n",
    "\n",
    "print(f\"Loading features from: {X_path}\")\n",
    "print(f\"Loading target from: {y_path}\")\n",
    "\n",
    "try:\n",
    "    # Load features, ensuring PROSPECTID is our index\n",
    "    X = pd.read_csv(X_path, index_col='PROSPECTID')\n",
    "    \n",
    "    # Load target, set index, and use .squeeze() to turn it into a Series\n",
    "    y = pd.read_csv(y_path, index_col='PROSPECTID').squeeze('columns')\n",
    "    \n",
    "    print(\"\\n--- Data Loaded Successfully ---\")\n",
    "    \n",
    "    # --- Verification Step ---\n",
    "    print(\"\\n--- X (Features) Info ---\")\n",
    "    X.info()\n",
    "    \n",
    "    print(f\"\\n--- y (Target) Imbalance (Finding 4) ---\")\n",
    "    print(y.value_counts(normalize=True).sort_index())\n",
    "\n",
    "except FileNotFoundError as e:\n",
    "    print(f\"\\n[ERROR] Files not found. Did you complete Phase 1?\")\n",
    "    print(e)"
   ]
  },
  {
   "cell_type": "markdown",
   "metadata": {},
   "source": [
    "### 2: Full Data Profile"
   ]
  },
  {
   "cell_type": "code",
   "execution_count": 2,
   "metadata": {},
   "outputs": [
    {
     "name": "stdout",
     "output_type": "stream",
     "text": [
      "Combined dataframe for profiling. Shape: (51336, 59)\n"
     ]
    },
    {
     "data": {
      "application/vnd.jupyter.widget-view+json": {
       "model_id": "5b9064817faf425c87280f3a2885421d",
       "version_major": 2,
       "version_minor": 0
      },
      "text/plain": [
       "Summarize dataset:   0%|          | 0/5 [00:00<?, ?it/s]"
      ]
     },
     "metadata": {},
     "output_type": "display_data"
    },
    {
     "data": {
      "application/vnd.jupyter.widget-view+json": {
       "model_id": "3492b447944d47d6a9489f792e3fd778",
       "version_major": 2,
       "version_minor": 0
      },
      "text/plain": [
       "Generate report structure:   0%|          | 0/1 [00:00<?, ?it/s]"
      ]
     },
     "metadata": {},
     "output_type": "display_data"
    },
    {
     "data": {
      "application/vnd.jupyter.widget-view+json": {
       "model_id": "d1ae81fef9114e13a65b9f0618ed5493",
       "version_major": 2,
       "version_minor": 0
      },
      "text/plain": [
       "Render HTML:   0%|          | 0/1 [00:00<?, ?it/s]"
      ]
     },
     "metadata": {},
     "output_type": "display_data"
    },
    {
     "data": {
      "application/vnd.jupyter.widget-view+json": {
       "model_id": "608dac9fc58141ae9328e7fd0569d69e",
       "version_major": 2,
       "version_minor": 0
      },
      "text/plain": [
       "Export report to file:   0%|          | 0/1 [00:00<?, ?it/s]"
      ]
     },
     "metadata": {},
     "output_type": "display_data"
    },
    {
     "name": "stdout",
     "output_type": "stream",
     "text": [
      "\n",
      "--- SUCCESS! ---\n",
      "Full data profile has been generated and saved to:\n",
      "/Users/yogeshdhaliya/Desktop/DS Learning/11. Projects/Credit-Risk-Prediction/notebooks/credit_risk_profile.html\n",
      "\n",
      "Please open this file in your browser to explore the data.\n"
     ]
    }
   ],
   "source": [
    "# --- 1. Combine X and y for Profiling ---\n",
    "# The profiler works best when it can see features and target together\n",
    "df_for_profiling = X.copy()\n",
    "df_for_profiling[y.name] = y\n",
    "\n",
    "print(f\"Combined dataframe for profiling. Shape: {df_for_profiling.shape}\")\n",
    "\n",
    "# --- 2. Generate the Profile Report ---\n",
    "profile = ProfileReport(\n",
    "    df_for_profiling, \n",
    "    title=\"Credit Risk Data Profile (Phase 2)\",\n",
    "    explorative=True\n",
    ")\n",
    "\n",
    "# --- 3. Save Report to File ---\n",
    "# We save to an HTML file in the *current* /notebooks folder.\n",
    "# This avoids flooding the notebook with a huge output.\n",
    "profile_path = os.path.join(os.getcwd(), 'credit_risk_profile.html')\n",
    "profile.to_file(profile_path)\n",
    "\n",
    "print(f\"\\n--- SUCCESS! ---\")\n",
    "print(f\"Full data profile has been generated and saved to:\")\n",
    "print(f\"{profile_path}\")\n",
    "print(\"\\nPlease open this file in your browser to explore the data.\")"
   ]
  }
 ],
 "metadata": {
  "kernelspec": {
   "display_name": "Python (venv_credit_risk)",
   "language": "python",
   "name": "venv_project"
  },
  "language_info": {
   "codemirror_mode": {
    "name": "ipython",
    "version": 3
   },
   "file_extension": ".py",
   "mimetype": "text/x-python",
   "name": "python",
   "nbconvert_exporter": "python",
   "pygments_lexer": "ipython3",
   "version": "3.11.8"
  }
 },
 "nbformat": 4,
 "nbformat_minor": 2
}
